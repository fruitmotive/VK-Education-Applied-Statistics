{
  "nbformat": 4,
  "nbformat_minor": 0,
  "metadata": {
    "colab": {
      "provenance": [],
      "collapsed_sections": []
    },
    "kernelspec": {
      "name": "python3",
      "display_name": "Python 3"
    },
    "language_info": {
      "name": "python"
    }
  },
  "cells": [
    {
      "cell_type": "code",
      "metadata": {
        "id": "_OJbxog7wxty"
      },
      "source": [
        "from time import time\n",
        "from matplotlib import pyplot as plt\n",
        "import numpy as np\n",
        "import pandas as pd\n",
        "from collections import defaultdict\n",
        "\n",
        "np.random.seed(int(time()))\n",
        "\n",
        "series = (5 + 100 * np.random.rand(1000)).astype(int)\n",
        "series = pd.Series(series)"
      ],
      "execution_count": null,
      "outputs": []
    },
    {
      "cell_type": "markdown",
      "metadata": {
        "id": "lHhMTVZQz6Ad"
      },
      "source": [
        "Метод rand(N) формирует выборку объема N из равномерного распредления на полуинтервале [0, 1). Собственно, поэтому наше распредление будет иметь вид равномерного. Того же результата мы могли добиться методом uniform. Чтобы изменить вид распредления достаточно воспользоваться другими методами из np.random (например, exponential, binomial, normal). "
      ]
    },
    {
      "cell_type": "code",
      "metadata": {
        "colab": {
          "base_uri": "https://localhost:8080/",
          "height": 297
        },
        "id": "xsAvY0gA0jBw",
        "outputId": "071c866a-613f-450e-ee62-110c4f1ce85c"
      },
      "source": [
        "plt.hist(series)\n",
        "plt.xlabel(\"Значение\")\n",
        "plt.ylabel(\"Частота\")"
      ],
      "execution_count": null,
      "outputs": [
        {
          "output_type": "execute_result",
          "data": {
            "text/plain": [
              "Text(0, 0.5, 'Частота')"
            ]
          },
          "metadata": {},
          "execution_count": 3
        },
        {
          "output_type": "display_data",
          "data": {
            "image/png": "[encoded data removed]",
            "text/plain": [
              "<Figure size 432x288 with 1 Axes>"
            ]
          },
          "metadata": {
            "needs_background": "light"
          }
        }
      ]
    },
    {
      "cell_type": "markdown",
      "metadata": {
        "id": "T80LNAMQ4kWZ"
      },
      "source": [
        "Далее определяются функции для вычисления основных статистик от выборки."
      ]
    },
    {
      "cell_type": "code",
      "metadata": {
        "id": "bkFCqazZ4wEE"
      },
      "source": [
        "# Выборочное среднее:\n",
        "def sample_mean(sample):\n",
        "  return sum(series) / len(series)\n",
        "\n",
        "# Среднеквадратичное отклонение (смещенное и несмещенное):\n",
        "def biased_standard_deviation(sample):\n",
        "  return np.sqrt(sum([(i - sample_mean(sample)) ** 2 for i in sample]) / len(sample))\n",
        "\n",
        "def unbiased_standard_deviation(sample):\n",
        "  return np.sqrt(sum([(i - sample_mean(sample)) ** 2 for i in sample]) / (len(sample) - 1))\n",
        "\n",
        "# Частота встречаемости. Возвращает словарь, где ключём будет служить число [5, 105), а значением - кол-во раз, которое оно встретилось в выборке:\n",
        "def frequency(sample):\n",
        "  d = defaultdict(int)\n",
        "  for i in sample:\n",
        "    d[i] += 1 / len(sample)\n",
        "  for i in d.keys():\n",
        "    d[i] = round(d[i], 3)\n",
        "  return d\n"
      ],
      "execution_count": null,
      "outputs": []
    },
    {
      "cell_type": "markdown",
      "metadata": {
        "id": "rJqtel07_V1K"
      },
      "source": [
        "Вычисление статистик с помощью \"своих\" функций:"
      ]
    },
    {
      "cell_type": "code",
      "metadata": {
        "colab": {
          "base_uri": "https://localhost:8080/"
        },
        "id": "DAcoRV07_gtq",
        "outputId": "2660dadb-deab-48f4-e575-60616a921f5a"
      },
      "source": [
        "print(\"Выборочное среднее:\", sample_mean(series))\n",
        "print(\"Стандартное отклонение на основе смещенной оценки дисперсии:\", biased_standard_deviation(series))\n",
        "print(\"Стандартное отклонение на основе несмещенной оценки дисперсии:\", unbiased_standard_deviation(series))\n",
        "print(\"Частота встречаемости:\", frequency(series))"
      ],
      "execution_count": null,
      "outputs": [
        {
          "output_type": "stream",
          "name": "stdout",
          "text": [
            "Выборочное среднее: 52.124\n",
            "Стандартное отклонение на основе смещенной оценки дисперсии: 28.884678014476822\n",
            "Стандартное отклонение на основе несмещенной оценки дисперсии: 28.89913119427268\n",
            "Частота встречаемости: defaultdict(<class 'int'>, {79: 0.011, 60: 0.012, 17: 0.006, 13: 0.005, 89: 0.015, 87: 0.006, 59: 0.003, 100: 0.007, 90: 0.009, 80: 0.009, 21: 0.01, 56: 0.015, 104: 0.009, 82: 0.016, 38: 0.013, 12: 0.012, 32: 0.015, 34: 0.013, 41: 0.014, 83: 0.007, 24: 0.01, 58: 0.006, 67: 0.006, 103: 0.007, 36: 0.01, 96: 0.006, 84: 0.011, 23: 0.01, 10: 0.012, 20: 0.015, 29: 0.008, 102: 0.009, 47: 0.014, 48: 0.011, 5: 0.013, 73: 0.006, 70: 0.007, 42: 0.009, 97: 0.007, 49: 0.01, 63: 0.015, 30: 0.012, 46: 0.013, 62: 0.005, 93: 0.006, 91: 0.01, 85: 0.008, 40: 0.01, 94: 0.013, 45: 0.013, 33: 0.01, 57: 0.012, 92: 0.011, 74: 0.012, 37: 0.008, 6: 0.013, 64: 0.006, 76: 0.007, 95: 0.009, 65: 0.009, 68: 0.006, 28: 0.007, 99: 0.01, 66: 0.016, 31: 0.011, 43: 0.008, 54: 0.007, 50: 0.014, 81: 0.014, 88: 0.01, 61: 0.015, 11: 0.019, 25: 0.013, 27: 0.017, 44: 0.003, 22: 0.011, 18: 0.012, 9: 0.014, 53: 0.01, 78: 0.006, 86: 0.01, 14: 0.014, 77: 0.011, 75: 0.007, 71: 0.01, 39: 0.013, 98: 0.008, 7: 0.009, 26: 0.012, 35: 0.011, 55: 0.004, 51: 0.011, 101: 0.01, 8: 0.008, 69: 0.011, 52: 0.005, 72: 0.004, 19: 0.007, 16: 0.009, 15: 0.007})\n"
          ]
        }
      ]
    },
    {
      "cell_type": "markdown",
      "metadata": {
        "id": "aQEDGtd8CfQ6"
      },
      "source": [
        "Вычисление статистик с помощью pandas методов:"
      ]
    },
    {
      "cell_type": "code",
      "metadata": {
        "colab": {
          "base_uri": "https://localhost:8080/"
        },
        "id": "n_T32ab6Cn_l",
        "outputId": "01575269-7bd8-4bac-ca6f-42e62eed31d7"
      },
      "source": [
        "print(\"Выборочное среднее:\", series.values.mean())\n",
        "print(\"Стандартное отклонение на основе смещенной оценки дисперсии:\", series.std(ddof=0))\n",
        "print(\"Стандартное отклонение на основе несмещенной оценки дисперсии:\", series.std())\n",
        "print(\"Частота встречаемости:\")\n",
        "print(series.value_counts(normalize=True))"
      ],
      "execution_count": null,
      "outputs": [
        {
          "output_type": "stream",
          "name": "stdout",
          "text": [
            "Выборочное среднее: 52.124\n",
            "Стандартное отклонение на основе смещенной оценки дисперсии: 28.884678014476822\n",
            "Стандартное отклонение на основе несмещенной оценки дисперсии: 28.89913119427268\n",
            "Частота встречаемости:\n",
            "11    0.019\n",
            "27    0.017\n",
            "82    0.016\n",
            "66    0.016\n",
            "20    0.015\n",
            "      ...  \n",
            "52    0.005\n",
            "72    0.004\n",
            "55    0.004\n",
            "44    0.003\n",
            "59    0.003\n",
            "Length: 100, dtype: float64\n"
          ]
        }
      ]
    },
    {
      "cell_type": "code",
      "metadata": {
        "id": "Ku1H0dCDiO6q"
      },
      "source": [],
      "execution_count": null,
      "outputs": []
    }
  ]
}