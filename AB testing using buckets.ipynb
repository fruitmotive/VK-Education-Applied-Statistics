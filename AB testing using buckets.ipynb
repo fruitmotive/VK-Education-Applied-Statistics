{
  "cells": [
    {
      "cell_type": "markdown",
      "metadata": {
        "id": "x0zxN6MGVpJg"
      },
      "source": [
        "**Выбор метрик** "
      ]
    },
    {
      "cell_type": "markdown",
      "metadata": {
        "id": "nt3jjYcn8NDN"
      },
      "source": [
        "Здесь all_users - количество юзеров, которые попали в данный бакет. \n",
        "\n",
        "1) **value_by_user = metric_value / users** - сумма целевых действий в расчете на пользователя, совершавшего целевое действие. \n",
        "\n",
        "2) **visits_by_user = visits / users** - количество целевых сессий в расчете на пользователя, совершавшего целелвое действие.\n",
        "\n",
        "3) **visits_percentage = visits / (visits + churn_visits)** - доля целевых сессий.\n",
        "\n",
        "4) **users_percentage = users / all_users** - доля пользователей, совершавших целевое действие в рамках бакета.\n",
        "\n",
        "5) **churn_users_percentage = churn_users / all_users** - доля пользователей, отказавшихся от оформления заказа в рамках бакета.\n",
        "\n",
        "В рамках данного эксперимента позитивными последсвтиями нововведений можно считать рост метрик value_by_user, visits_by_user, visits_percentage, users_percentage и снижение значения метрики churn_users_percentage.\n"
      ]
    },
    {
      "cell_type": "code",
      "execution_count": null,
      "metadata": {
        "id": "37e7bxvCotMB"
      },
      "outputs": [],
      "source": [
        "import pandas as pd\n",
        "import numpy as np\n",
        "import scipy.stats as stats\n",
        "from matplotlib import pyplot as plt"
      ]
    },
    {
      "cell_type": "code",
      "execution_count": null,
      "metadata": {
        "id": "V3NhrbPsjdaV"
      },
      "outputs": [],
      "source": [
        "by_bucket = pd.read_csv(\"hw_abt_2_bybucket.csv\", sep=\"\\t\")\n",
        "by_users = pd.read_csv(\"hw_abt_2_byuser.csv\", sep=\"\\t\")"
      ]
    },
    {
      "cell_type": "code",
      "execution_count": null,
      "metadata": {
        "id": "-kfsaEa3jxsF"
      },
      "outputs": [],
      "source": [
        "all_users = [by_users[by_users.group_id == i].count()[0] for i in range(1, 17)]"
      ]
    },
    {
      "cell_type": "code",
      "execution_count": null,
      "metadata": {
        "id": "4vB3Qgf9lPuf"
      },
      "outputs": [],
      "source": [
        "by_bucket[\"all_users\"] = all_users\n",
        "by_bucket[\"value_by_user\"] = by_bucket.metric_value / by_bucket.users\n",
        "by_bucket[\"visits_by_user\"] = by_bucket.visits / by_bucket.users\n",
        "by_bucket[\"visits_percentage\"] = by_bucket.visits / (by_bucket.visits + by_bucket.churn_visits)\n",
        "by_bucket[\"users_percentage\"] = by_bucket.users / by_bucket.all_users\n",
        "by_bucket[\"churn_users_percentage\"] = by_bucket.churn_users / by_bucket.all_users\n",
        "metrics = [\"value_by_user\", \"visits_by_user\", \"visits_percentage\", \"users_percentage\", \"churn_users_percentage\"]"
      ]
    },
    {
      "cell_type": "markdown",
      "metadata": {
        "id": "axLvGiQ3s7MR"
      },
      "source": [
        "**Проверка на нормальность**"
      ]
    },
    {
      "cell_type": "markdown",
      "metadata": {
        "id": "JpJJC92lwo2y"
      },
      "source": [
        "Для проверки распределений на нормальность будем использовать критерий Шапиро-Уилка. Нам необходима именно нормальность распределения, а его мощность больше мощности критерия Колмогорова - Смирнова.\n"
      ]
    },
    {
      "cell_type": "markdown",
      "metadata": {
        "id": "t3j32hZFxHZt"
      },
      "source": [
        "**Проверка на нормальность распределений метрик для контрольной группы**"
      ]
    },
    {
      "cell_type": "code",
      "execution_count": null,
      "metadata": {
        "colab": {
          "base_uri": "https://localhost:8080/"
        },
        "id": "VkqZn0EtxXzL",
        "outputId": "9abe2dcc-7c2d-423a-9ab8-9457ec1c20ef"
      },
      "outputs": [
        {
          "name": "stdout",
          "output_type": "stream",
          "text": [
            "Distributions of value_by_user is not normal\n",
            "\n",
            "Distributions of visits_by_user is normal\n",
            "\n",
            "Distributions of visits_percentage is normal\n",
            "\n",
            "Distributions of users_percentage is not normal\n",
            "\n",
            "Distributions of churn_users_percentage is not normal\n",
            "\n"
          ]
        }
      ],
      "source": [
        "alpha = 0.05\n",
        "data_control = by_bucket.loc[:7]\n",
        "for i in metrics:\n",
        "  x = stats.shapiro(data_control[i])\n",
        "  print((\"Distributions of \" + i + \" is {}normal\\n\").format( {True:'not ', False:''}[x[1] < alpha]))"
      ]
    },
    {
      "cell_type": "markdown",
      "metadata": {
        "id": "dKXsxrDGVBzU"
      },
      "source": [
        "**Построение гистограмм распределений метрик для контрольной группы**"
      ]
    },
    {
      "cell_type": "code",
      "execution_count": null,
      "metadata": {
        "colab": {
          "base_uri": "https://localhost:8080/",
          "height": 331
        },
        "id": "IJbli9qK5PU2",
        "outputId": "2c6e6aaa-e240-4252-9de6-db347ae5f833"
      },
      "outputs": [
        {
          "data": {
            "image/png": "[encoded data removed]",
            "text/plain": [
              "<Figure size 1728x360 with 5 Axes>"
            ]
          },
          "metadata": {
            "needs_background": "light"
          },
          "output_type": "display_data"
        }
      ],
      "source": [
        "fig = plt.figure(figsize=(24, 5))\n",
        "\n",
        "ax1 = fig.add_subplot(151)\n",
        "ax2 = fig.add_subplot(152)\n",
        "ax3 = fig.add_subplot(153)\n",
        "ax4 = fig.add_subplot(154)\n",
        "ax5 = fig.add_subplot(155)\n",
        "\n",
        "ax1.hist(data_control[\"value_by_user\"])\n",
        "ax2.hist(data_control[\"visits_by_user\"])\n",
        "ax3.hist(data_control[\"visits_percentage\"])\n",
        "ax4.hist(data_control[\"users_percentage\"])\n",
        "ax5.hist(data_control[\"churn_users_percentage\"])\n",
        "\n",
        "ax1.set_xlabel(\"value_by_user\")\n",
        "ax2.set_xlabel(\"visits_by_user\")\n",
        "ax3.set_xlabel(\"visits_percentage\")\n",
        "ax4.set_xlabel(\"users_percentage\")\n",
        "ax5.set_xlabel(\"churn_users_percentage\")\n",
        "\n",
        "plt.show()"
      ]
    },
    {
      "cell_type": "markdown",
      "metadata": {
        "id": "JnhSlKbqhqfC"
      },
      "source": [
        "**Построение диаграмм размаха для метрик в контрольной группе**"
      ]
    },
    {
      "cell_type": "code",
      "execution_count": null,
      "metadata": {
        "colab": {
          "base_uri": "https://localhost:8080/",
          "height": 332
        },
        "id": "6NW4AAxjh0J4",
        "outputId": "1c895940-2b7f-4ad5-8716-908ef5c6277c"
      },
      "outputs": [
        {
          "data": {
            "image/png": "[encoded data removed]",
            "text/plain": [
              "<Figure size 1728x360 with 5 Axes>"
            ]
          },
          "metadata": {
            "needs_background": "light"
          },
          "output_type": "display_data"
        }
      ],
      "source": [
        "fig = plt.figure(figsize=(24, 5))\n",
        "\n",
        "ax1 = fig.add_subplot(151)\n",
        "ax2 = fig.add_subplot(152)\n",
        "ax3 = fig.add_subplot(153)\n",
        "ax4 = fig.add_subplot(154)\n",
        "ax5 = fig.add_subplot(155)\n",
        "\n",
        "ax1.boxplot(data_control[\"value_by_user\"])\n",
        "ax2.boxplot(data_control[\"visits_by_user\"])\n",
        "ax3.boxplot(data_control[\"visits_percentage\"])\n",
        "ax4.boxplot(data_control[\"users_percentage\"])\n",
        "ax5.boxplot(data_control[\"churn_users_percentage\"])\n",
        "\n",
        "ax1.set_xlabel(\"value_by_user\")\n",
        "ax2.set_xlabel(\"visits_by_user\")\n",
        "ax3.set_xlabel(\"visits_percentage\")\n",
        "ax4.set_xlabel(\"users_percentage\")\n",
        "ax5.set_xlabel(\"churn_users_percentage\")\n",
        "\n",
        "plt.show()"
      ]
    },
    {
      "cell_type": "markdown",
      "metadata": {
        "id": "IYitoNJEWBnh"
      },
      "source": [
        "**Проверка на нормальность распределений метрик для экпериментальной группы**"
      ]
    },
    {
      "cell_type": "code",
      "execution_count": null,
      "metadata": {
        "colab": {
          "base_uri": "https://localhost:8080/"
        },
        "id": "H6HtJkvlWVvA",
        "outputId": "5f64e20f-d0b9-4786-ba9e-1ca30bf7e316"
      },
      "outputs": [
        {
          "name": "stdout",
          "output_type": "stream",
          "text": [
            "Distributions of value_by_user is normal\n",
            "\n",
            "Distributions of visits_by_user is normal\n",
            "\n",
            "Distributions of visits_percentage is normal\n",
            "\n",
            "Distributions of users_percentage is normal\n",
            "\n",
            "Distributions of churn_users_percentage is normal\n",
            "\n"
          ]
        }
      ],
      "source": [
        "alpha = 0.05\n",
        "data_exp = by_bucket.loc[8:]\n",
        "for i in metrics:\n",
        "  x = stats.shapiro(data_exp[i])\n",
        "  print((\"Distributions of \" + i + \" is {}normal\\n\").format( {True:'not ', False:''}[x[1] < alpha]))"
      ]
    },
    {
      "cell_type": "markdown",
      "metadata": {
        "id": "wl0GEXRYW_Lx"
      },
      "source": [
        "**Построение гистограмм распределений метрик для экспериментальной группы**"
      ]
    },
    {
      "cell_type": "code",
      "execution_count": null,
      "metadata": {
        "colab": {
          "base_uri": "https://localhost:8080/",
          "height": 355
        },
        "id": "USjfS30cWuyk",
        "outputId": "500c725d-38db-4851-c8f4-d86f8d0e5d43"
      },
      "outputs": [
        {
          "data": {
            "image/png": "[encoded data removed]",
            "text/plain": [
              "<Figure size 1728x360 with 5 Axes>"
            ]
          },
          "metadata": {
            "needs_background": "light"
          },
          "output_type": "display_data"
        }
      ],
      "source": [
        "fig = plt.figure(figsize=(24, 5))\n",
        "\n",
        "ax1 = fig.add_subplot(151)\n",
        "ax2 = fig.add_subplot(152)\n",
        "ax3 = fig.add_subplot(153)\n",
        "ax4 = fig.add_subplot(154)\n",
        "ax5 = fig.add_subplot(155)\n",
        "\n",
        "ax1.hist(data_exp[\"value_by_user\"])\n",
        "ax2.hist(data_exp[\"visits_by_user\"])\n",
        "ax3.hist(data_exp[\"visits_percentage\"])\n",
        "ax4.hist(data_exp[\"users_percentage\"])\n",
        "ax5.hist(data_exp[\"churn_users_percentage\"])\n",
        "\n",
        "ax1.set_xlabel(\"value_by_user\")\n",
        "ax2.set_xlabel(\"visits_by_user\")\n",
        "ax3.set_xlabel(\"visits_percentage\")\n",
        "ax4.set_xlabel(\"users_percentage\")\n",
        "ax5.set_xlabel(\"churn_users_percentage\")\n",
        "\n",
        "plt.show()"
      ]
    },
    {
      "cell_type": "markdown",
      "metadata": {
        "id": "rrm-HW6xh76A"
      },
      "source": [
        "**Построение диаграмм размаха для метрик в экспериментальной группе**"
      ]
    },
    {
      "cell_type": "code",
      "execution_count": null,
      "metadata": {
        "colab": {
          "base_uri": "https://localhost:8080/",
          "height": 347
        },
        "id": "DQQ7NsQriMMK",
        "outputId": "e282d772-717c-4112-abdd-853a788b8b8d"
      },
      "outputs": [
        {
          "data": {
            "text/plain": [
              "Text(0.5, 0, 'churn_users_percentage')"
            ]
          },
          "execution_count": 22,
          "metadata": {},
          "output_type": "execute_result"
        },
        {
          "data": {
            "image/png": "[encoded data removed]",
            "text/plain": [
              "<Figure size 1728x360 with 5 Axes>"
            ]
          },
          "metadata": {
            "needs_background": "light"
          },
          "output_type": "display_data"
        }
      ],
      "source": [
        "fig = plt.figure(figsize=(24, 5))\n",
        "\n",
        "ax1 = fig.add_subplot(151)\n",
        "ax2 = fig.add_subplot(152)\n",
        "ax3 = fig.add_subplot(153)\n",
        "ax4 = fig.add_subplot(154)\n",
        "ax5 = fig.add_subplot(155)\n",
        "\n",
        "ax1.boxplot(data_exp[\"value_by_user\"])\n",
        "ax2.boxplot(data_exp[\"visits_by_user\"])\n",
        "ax3.boxplot(data_exp[\"visits_percentage\"])\n",
        "ax4.boxplot(data_exp[\"users_percentage\"])\n",
        "ax5.boxplot(data_exp[\"churn_users_percentage\"])\n",
        "\n",
        "ax1.set_xlabel(\"value_by_user\")\n",
        "ax2.set_xlabel(\"visits_by_user\")\n",
        "ax3.set_xlabel(\"visits_percentage\")\n",
        "ax4.set_xlabel(\"users_percentage\")\n",
        "ax5.set_xlabel(\"churn_users_percentage\")"
      ]
    },
    {
      "cell_type": "markdown",
      "metadata": {
        "id": "WlJ4FMjcZ3ud"
      },
      "source": [
        "Итак, было установлено, что в случае экспериментальной группы можно говорить о нормальности распределений метрик. Однако не про все метрики контрольной группы можно говорить то же самое. Так, лишь только метрики visits_by_user и visits_percentage являются нормально распределенными в данной группе."
      ]
    },
    {
      "cell_type": "markdown",
      "metadata": {
        "id": "A5ixJZHja4cD"
      },
      "source": [
        "**Дисперсионный анализ**"
      ]
    },
    {
      "cell_type": "markdown",
      "metadata": {
        "id": "wo5D4Sscbaxq"
      },
      "source": [
        "Как было установленно, говорить о нормальности можно лишь только для метрик visits_by_user и visits_percentage. Для данных метрик применим более мощный критерий Фишера. Для остальных же будем применять менее чувствительный к отклонениям от нормальности критерий Левена."
      ]
    },
    {
      "cell_type": "code",
      "execution_count": null,
      "metadata": {
        "colab": {
          "base_uri": "https://localhost:8080/"
        },
        "id": "yIFyihwub9Xp",
        "outputId": "938f16f4-0e87-4702-ff1c-d72e0bbcba6d"
      },
      "outputs": [
        {
          "name": "stdout",
          "output_type": "stream",
          "text": [
            "Confirm the H0: Var(data_control[\"value_by_user\"]) == Var(data_exp[\"value_by_user\"])\n",
            "\n",
            "Reject the H0: Var(data_control[\"visits_by_user\"]) == Var(data_exp[\"visits_by_user\"])\n",
            "\n",
            "Confirm the H0: Var(data_control[\"visits_percentage\"]) == Var(data_exp[\"visits_percentage\"])\n",
            "\n",
            "Confirm the H0: Var(data_control[\"users_percentage\"]) == Var(data_exp[\"users_percentage\"])\n",
            "\n",
            "Confirm the H0: Var(data_control[\"churn_users_percentage\"]) == Var(data_exp[\"churn_users_percentage\"])\n",
            "\n"
          ]
        }
      ],
      "source": [
        "alpha = 0.05 \n",
        "x1 = stats.f_oneway(data_control[\"visits_by_user\"], data_exp[\"visits_by_user\"])[1] \n",
        "x2 = stats.f_oneway(data_control[\"visits_percentage\"], data_exp[\"visits_percentage\"])[1] \n",
        "x3 = stats.levene(data_control[\"value_by_user\"], data_exp[\"value_by_user\"])[1] \n",
        "x4 = stats.levene(data_control[\"users_percentage\"], data_exp[\"users_percentage\"])[1] \n",
        "x5 = stats.levene(data_control[\"churn_users_percentage\"], data_exp[\"churn_users_percentage\"])[1] \n",
        "\n",
        "print('{} the H0: Var(data_control[\"value_by_user\"]) == Var(data_exp[\"value_by_user\"])\\n'.format( {False:'Reject', True:'Confirm'}[x3 > alpha]))\n",
        "print('{} the H0: Var(data_control[\"visits_by_user\"]) == Var(data_exp[\"visits_by_user\"])\\n'.format( {False:'Reject', True:'Confirm'}[x1 > alpha]))\n",
        "print('{} the H0: Var(data_control[\"visits_percentage\"]) == Var(data_exp[\"visits_percentage\"])\\n'.format( {False:'Reject', True:'Confirm'}[x2 > alpha]))\n",
        "print('{} the H0: Var(data_control[\"users_percentage\"]) == Var(data_exp[\"users_percentage\"])\\n'.format( {False:'Reject', True:'Confirm'}[x4 > alpha]))\n",
        "print('{} the H0: Var(data_control[\"churn_users_percentage\"]) == Var(data_exp[\"churn_users_percentage\"])\\n'.format( {False:'Reject', True:'Confirm'}[x5 > alpha]))"
      ]
    },
    {
      "cell_type": "markdown",
      "metadata": {
        "id": "GDVt_D5ZmzQp"
      },
      "source": [
        "Таким образом установлена гомегенность дисперсий для всех метрик кроме метрики visits_by_user."
      ]
    },
    {
      "cell_type": "markdown",
      "metadata": {
        "id": "C6zUpT51VEpy"
      },
      "source": [
        "**Проверка статистической значимости (проверка равенства средних)**"
      ]
    },
    {
      "cell_type": "markdown",
      "metadata": {
        "id": "JtkWuveuVt5J"
      },
      "source": [
        "Итак, требование нормальности и гомоскедастичности выполняется только для метрики visits_percentage. Для нее используем критерий Стьюдента. Для остальных метрик же используем непараметрический критерий Манна - Уитни."
      ]
    },
    {
      "cell_type": "code",
      "execution_count": null,
      "metadata": {
        "colab": {
          "base_uri": "https://localhost:8080/"
        },
        "id": "DKC5HnrYWsOC",
        "outputId": "413e62ad-fd29-4768-a22d-bfcb43604dbe"
      },
      "outputs": [
        {
          "name": "stdout",
          "output_type": "stream",
          "text": [
            "Diffs between control and experimental group for value_by_user is significant\n",
            " control_mean = 12346.467183102735 exp_mean = 13054.717025394619\n",
            "Diffs between control and experimental group for visits_by_user is significant\n",
            " control_mean = 9.912626788526323 exp_mean = 9.19593381963079\n",
            "Diffs between control and experimental group for visits_percentage is not significant\n",
            " control_mean = 0.41089964920322974 exp_mean = 0.39427872505977946\n",
            "Diffs between control and experimental group for users_percentage is not significant\n",
            " control_mean = 0.4883260190854966 exp_mean = 0.4954266134438846\n",
            "Diffs between control and experimental group for churn_users_percentage is significant\n",
            " control_mean = 0.503178523533048 exp_mean = 0.7859169445065535\n"
          ]
        }
      ],
      "source": [
        "alpha = 0.05\n",
        "x1 = stats.mannwhitneyu(data_control[\"value_by_user\"], data_exp[\"value_by_user\"])[1]\n",
        "x2 = stats.mannwhitneyu(data_control[\"visits_by_user\"], data_exp[\"visits_by_user\"])[1]\n",
        "x3 = stats.ttest_ind(data_control[\"visits_percentage\"], data_exp[\"visits_percentage\"])[1]\n",
        "x4 = stats.mannwhitneyu(data_control[\"users_percentage\"], data_exp[\"users_percentage\"])[1]\n",
        "x5 = stats.mannwhitneyu(data_control[\"churn_users_percentage\"], data_exp[\"churn_users_percentage\"])[1]\n",
        "\n",
        "print('Diffs between control and experimental group for value_by_user is {}significant\\n'.format({False:'not ', True:''}[x1 < alpha]),\\\n",
        "      \"control_mean =\", data_control[\"value_by_user\"].mean() ,\"exp_mean =\", data_exp[\"value_by_user\"].mean()) \n",
        "print('Diffs between control and experimental group for visits_by_user is {}significant\\n'.format({False:'not ', True:''}[x2 < alpha]),\\\n",
        "      \"control_mean =\", data_control[\"visits_by_user\"].mean(), \"exp_mean =\", data_exp[\"visits_by_user\"].mean())  \n",
        "print('Diffs between control and experimental group for visits_percentage is {}significant\\n'.format({False:'not ', True:''}[x3 < alpha]),\\\n",
        "      \"control_mean =\", data_control[\"visits_percentage\"].mean(), \"exp_mean =\", data_exp[\"visits_percentage\"].mean())  \n",
        "print('Diffs between control and experimental group for users_percentage is {}significant\\n'.format({False:'not ', True:''}[x4 < alpha]),\\\n",
        "      \"control_mean =\", data_control[\"users_percentage\"].mean(), \"exp_mean =\", data_exp[\"users_percentage\"].mean())  \n",
        "print('Diffs between control and experimental group for churn_users_percentage is {}significant\\n'.format({False:'not ', True:''}[x5 < alpha]),\\\n",
        "      \"control_mean =\", data_control[\"churn_users_percentage\"].mean(), \"exp_mean =\", data_exp[\"churn_users_percentage\"].mean())  "
      ]
    },
    {
      "cell_type": "markdown",
      "metadata": {
        "id": "ZO8T0RUvgjyd"
      },
      "source": [
        "Было установлено, что изменения для экспериментальной группы значительно повлияли на метрики value_by_user, visits_by_user, churn_users_percentage. Как видно из данных, благодаря нововведениям значительно выросла метрика суммы целевых действий в расчете на целевого пользователя (value_by_user). Однако, нововведения снизили количество целевых действий на целевого пользователя (visits_by_user) и повысили долю пользователей, которые отказались делать заказ (churn_users_percentage). На метрики visits_percentage и users_percentage обновление не оказало значительного влияния. "
      ]
    },
    {
      "cell_type": "markdown",
      "metadata": {
        "id": "VeTP6Gd96DTB"
      },
      "source": [
        "**Анализ размера выборки**"
      ]
    },
    {
      "cell_type": "markdown",
      "metadata": {
        "id": "rFoPVOqC6G2B"
      },
      "source": [
        "В нашем случае элементами выборки будут являться группы (бакеты) примерно по 310 человек. Тогда размер генеральной совокупности примерно равен 1 500 000 / 310 = 485. Для анализа нашего эксперимента было отобрано 2 множества по 8 групп в каждой.\n",
        "\n",
        "Рассмотрим, например, метрику visits_percentage, различия для которой мы анализровали с помощью критерия Стьюдента. Мы хотим добиться различий Δ таких, что F(x > Δ) = 0.05, где F - функция распредления для распредления Стьюдента с 8-ми степенями свободы. Отсюда получим Δ = 1.86. Пусть α = 0.05, а мощность теста - 0.8. "
      ]
    },
    {
      "cell_type": "code",
      "execution_count": null,
      "metadata": {
        "colab": {
          "base_uri": "https://localhost:8080/"
        },
        "id": "px5JwgFD681N",
        "outputId": "044f00d1-ca7f-47b9-ab67-d99169ddb951"
      },
      "outputs": [
        {
          "name": "stdout",
          "output_type": "stream",
          "text": [
            "Sample Size: 5.679\n"
          ]
        }
      ],
      "source": [
        "import statsmodels.stats.power\n",
        "effect = 1.86\n",
        "alpha = 0.05\n",
        "power = 0.8\n",
        "result = statsmodels.stats.power.TTestIndPower().solve_power(effect, power=power, nobs1=None, ratio=1.0, alpha=alpha)\n",
        "print('Sample Size: %.3f' % result) "
      ]
    },
    {
      "cell_type": "markdown",
      "metadata": {
        "id": "iqjMXd8OC08O"
      },
      "source": [
        "Получаем, что объем выборки должен быть около 6, что выполняется в нашем тесте."
      ]
    },
    {
      "cell_type": "markdown",
      "metadata": {
        "id": "oNTyW6OEjQOF"
      },
      "source": [
        "**Рекомендации менеджеру**"
      ]
    },
    {
      "cell_type": "markdown",
      "metadata": {
        "id": "Ue_wwZZJjVqi"
      },
      "source": [
        "Как показал эксперимент, нововведения положительно сказались на совершении \"дорогих\" целевых действий. Хотя и снизилось количество целевых действий на целевого пользователя, но каждый из них в среднем стал приносить больше прибыли. С другой стороны, больше пользователей стали уходить в отток. Таким образом, юзеры, которых удалось заинтересовать сервисом, стали пользоваться им более целенаправлено и осмысленно. Однако, заинтересовать пользователя стало сложнее, так как больше людей стали уходить в отток. Подводя итоги, изменения носят положительный эффект, если нашей задачей является удержание накопленной аудитории и отрицательной, если мы хотим привлекать новых юзеров."
      ]
    }
  ],
  "metadata": {
    "colab": {
      "collapsed_sections": [],
      "provenance": []
    },
    "kernelspec": {
      "display_name": "Python 3.9.6 64-bit",
      "language": "python",
      "name": "python3"
    },
    "language_info": {
      "name": "python",
      "version": "3.9.6"
    },
    "vscode": {
      "interpreter": {
        "hash": "2ad02271c7f282e37949be07c1851365816c8014f6e1de5fd2edbe7293f6e86a"
      }
    }
  },
  "nbformat": 4,
  "nbformat_minor": 0
}
