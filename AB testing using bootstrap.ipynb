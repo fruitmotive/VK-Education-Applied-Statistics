{
  "nbformat": 4,
  "nbformat_minor": 0,
  "metadata": {
    "colab": {
      "provenance": [],
      "collapsed_sections": [
        "HcQpHZiwGO3q",
        "VUFyS9Li6FOs",
        "xaYT7btB5Mi1",
        "_O6czQVEHyby"
      ]
    },
    "kernelspec": {
      "name": "python3",
      "display_name": "Python 3"
    },
    "language_info": {
      "name": "python"
    }
  },
  "cells": [
    {
      "cell_type": "markdown",
      "source": [
        "#**Подключение пакетов**"
      ],
      "metadata": {
        "id": "HcQpHZiwGO3q"
      }
    },
    {
      "cell_type": "code",
      "source": [
        "!pip install bootstrapped"
      ],
      "metadata": {
        "colab": {
          "base_uri": "https://localhost:8080/"
        },
        "id": "us9YNX7Kz03O",
        "outputId": "33e319fc-ccdb-4088-f5ec-32b66ae3f618"
      },
      "execution_count": null,
      "outputs": [
        {
          "output_type": "stream",
          "name": "stdout",
          "text": [
            "Collecting bootstrapped\n",
            "  Downloading bootstrapped-0.0.2.tar.gz (11 kB)\n",
            "Requirement already satisfied: matplotlib>=1.5.3 in /usr/local/lib/python3.7/dist-packages (from bootstrapped) (3.2.2)\n",
            "Requirement already satisfied: numpy>=1.11.1 in /usr/local/lib/python3.7/dist-packages (from bootstrapped) (1.19.5)\n",
            "Requirement already satisfied: pandas>=0.18.1 in /usr/local/lib/python3.7/dist-packages (from bootstrapped) (1.1.5)\n",
            "Requirement already satisfied: python-dateutil>=2.1 in /usr/local/lib/python3.7/dist-packages (from matplotlib>=1.5.3->bootstrapped) (2.8.2)\n",
            "Requirement already satisfied: kiwisolver>=1.0.1 in /usr/local/lib/python3.7/dist-packages (from matplotlib>=1.5.3->bootstrapped) (1.3.2)\n",
            "Requirement already satisfied: pyparsing!=2.0.4,!=2.1.2,!=2.1.6,>=2.0.1 in /usr/local/lib/python3.7/dist-packages (from matplotlib>=1.5.3->bootstrapped) (3.0.6)\n",
            "Requirement already satisfied: cycler>=0.10 in /usr/local/lib/python3.7/dist-packages (from matplotlib>=1.5.3->bootstrapped) (0.11.0)\n",
            "Requirement already satisfied: pytz>=2017.2 in /usr/local/lib/python3.7/dist-packages (from pandas>=0.18.1->bootstrapped) (2018.9)\n",
            "Requirement already satisfied: six>=1.5 in /usr/local/lib/python3.7/dist-packages (from python-dateutil>=2.1->matplotlib>=1.5.3->bootstrapped) (1.15.0)\n",
            "Building wheels for collected packages: bootstrapped\n",
            "  Building wheel for bootstrapped (setup.py) ... \u001b[?25l\u001b[?25hdone\n",
            "  Created wheel for bootstrapped: filename=bootstrapped-0.0.2-py2.py3-none-any.whl size=13954 sha256=6d713bcf4c9c51b16c1a6c22981cad9bce489fd30ce6a86d8c37ef33a663f89e\n",
            "  Stored in directory: /root/.cache/pip/wheels/15/55/6a/9a722f067ac4c3dfab359ed2ec7906b9cc6649156d9886bd59\n",
            "Successfully built bootstrapped\n",
            "Installing collected packages: bootstrapped\n",
            "Successfully installed bootstrapped-0.0.2\n"
          ]
        }
      ]
    },
    {
      "cell_type": "code",
      "source": [
        "import pandas as pd\n",
        "import pylab \n",
        "import numpy as np\n",
        "import scipy.stats as stats\n",
        "import statsmodels.api\n",
        "from matplotlib import pyplot as plt\n",
        "import bootstrapped.bootstrap as bs\n",
        "import bootstrapped.compare_functions as bs_compare\n",
        "import bootstrapped.stats_functions as bs_stats"
      ],
      "metadata": {
        "colab": {
          "base_uri": "https://localhost:8080/"
        },
        "id": "SJH_I2orzU_E",
        "outputId": "bc5b76e9-fdc6-4ede-b9be-37806bd8c905"
      },
      "execution_count": null,
      "outputs": [
        {
          "output_type": "stream",
          "name": "stderr",
          "text": [
            "/usr/local/lib/python3.7/dist-packages/statsmodels/tools/_testing.py:19: FutureWarning: pandas.util.testing is deprecated. Use the functions in the public API at pandas.testing instead.\n",
            "  import pandas.util.testing as tm\n"
          ]
        }
      ]
    },
    {
      "cell_type": "markdown",
      "source": [
        "#**Выбор метрик** "
      ],
      "metadata": {
        "id": "VUFyS9Li6FOs"
      }
    },
    {
      "cell_type": "markdown",
      "source": [
        "В данном задании, так как требуется анализ методом bootstrap, разумно рассмотреть метрики, которые уже представлены в таблице, то есть: metric_value, users, visits, churn_users, churn_visits. Однако для каждой метрики способы анализа будут разными. Например, metric_value, как будет видно далее, вполне нормально распределенная количественная характеристика и для нее вполне можно применять классические методы анализа (в любом случае, попробуем использовать метод bootstrap и для нее)."
      ],
      "metadata": {
        "id": "yKCy7IROvVge"
      }
    },
    {
      "cell_type": "code",
      "source": [
        "users = pd.read_csv(\"hw_abt_2_byuser.csv\", sep=\"\\t\")\n",
        "ctrl_group = users[users[\"group\"] == \"A\"]\n",
        "test_group = users[users[\"group\"] == \"B\"]\n",
        "\n",
        "fig = plt.figure(figsize=(15, 5))\n",
        "\n",
        "ax1 = fig.add_subplot(121)\n",
        "ax2 = fig.add_subplot(122)\n",
        "\n",
        "ax1.hist(ctrl_group.metric_value.values)\n",
        "ax2.hist(test_group.metric_value.values)\n",
        "\n",
        "ax1.set_xlabel(\"metric_value distribution in control group\")\n",
        "ax2.set_xlabel(\"metric_value distribution in experimental group\")\n",
        "\n",
        "plt.show()"
      ],
      "metadata": {
        "colab": {
          "base_uri": "https://localhost:8080/",
          "height": 335
        },
        "id": "Yz_wHNr_0N1L",
        "outputId": "3072c277-b6ad-4ec0-f587-68a38b3bcfbf"
      },
      "execution_count": null,
      "outputs": [
        {
          "output_type": "display_data",
          "data": {
            "image/png": "[encoded data removed]",
            "text/plain": [
              "<Figure size 1080x360 with 2 Axes>"
            ]
          },
          "metadata": {
            "needs_background": "light"
          }
        }
      ]
    },
    {
      "cell_type": "markdown",
      "source": [
        "С другой стороны, метрики visits и churn_visits имеют явно выраженные ассиметрии в своих распределениях - для них bootstrap выглядит наиболее подходящим. "
      ],
      "metadata": {
        "id": "tCf-HKpEzSgd"
      }
    },
    {
      "cell_type": "code",
      "source": [
        "fig = plt.figure(figsize=(25, 5))\n",
        "\n",
        "ax1 = fig.add_subplot(141)\n",
        "ax2 = fig.add_subplot(142)\n",
        "ax3 = fig.add_subplot(143)\n",
        "ax4 = fig.add_subplot(144)\n",
        "\n",
        "ax1.hist(ctrl_group.visits.values)\n",
        "ax2.hist(test_group.visits.values)\n",
        "ax3.hist(ctrl_group.churn_visits.values)\n",
        "ax4.hist(test_group.churn_visits.values)\n",
        "\n",
        "ax1.set_xlabel(\"visits distribution in control group\")\n",
        "ax2.set_xlabel(\"visits distribution in experimental group\")\n",
        "ax3.set_xlabel(\"churn_visits distribution in control group\")\n",
        "ax4.set_xlabel(\"churn_visits distribution in experimental group\")\n",
        "\n",
        "plt.show()"
      ],
      "metadata": {
        "colab": {
          "base_uri": "https://localhost:8080/",
          "height": 321
        },
        "id": "BB3Ewbsm3oav",
        "outputId": "ee235b92-03da-43ce-d677-84b6ac3478a5"
      },
      "execution_count": null,
      "outputs": [
        {
          "output_type": "display_data",
          "data": {
            "image/png": "[encoded data removed]",
            "text/plain": [
              "<Figure size 1800x360 with 4 Axes>"
            ]
          },
          "metadata": {
            "needs_background": "light"
          }
        }
      ]
    },
    {
      "cell_type": "markdown",
      "source": [
        "Наконец, метрики users и churn_users являются бинарными. Метод их анализа будет изложен позже."
      ],
      "metadata": {
        "id": "cmAm-82z3nN5"
      }
    },
    {
      "cell_type": "markdown",
      "source": [
        "#**Нормальность и гомоскедастичность распределений**"
      ],
      "metadata": {
        "id": "xaYT7btB5Mi1"
      }
    },
    {
      "cell_type": "markdown",
      "source": [
        "Убедимся в том, что метрика **metric_value** распределена нормально как в контрольной, так и в тестовой группе, а также проведем дисперсионный анализ для данных групп. В данном случае выборки довольно большие и критерии согласия будут плохо работать. Есть смысл посмотреть на qq-plot."
      ],
      "metadata": {
        "id": "pvOQ6eI56HB6"
      }
    },
    {
      "cell_type": "code",
      "source": [
        "stats.probplot(ctrl_group.metric_value.values, dist=\"norm\", plot=pylab)\n",
        "pylab.show()"
      ],
      "metadata": {
        "colab": {
          "base_uri": "https://localhost:8080/",
          "height": 295
        },
        "id": "qvJHZ9Cb68nO",
        "outputId": "6fb2c036-3960-461b-f560-2273f60e9653"
      },
      "execution_count": null,
      "outputs": [
        {
          "output_type": "display_data",
          "data": {
            "image/png": "[encoded data removed]",
            "text/plain": [
              "<Figure size 432x288 with 1 Axes>"
            ]
          },
          "metadata": {
            "needs_background": "light"
          }
        }
      ]
    },
    {
      "cell_type": "code",
      "source": [
        "stats.probplot(test_group.metric_value.values, dist=\"norm\", plot=pylab)\n",
        "pylab.show()"
      ],
      "metadata": {
        "colab": {
          "base_uri": "https://localhost:8080/",
          "height": 295
        },
        "id": "v--pY4Bt8kqs",
        "outputId": "6d86d287-d7a3-42fe-e938-f2594ca67f4a"
      },
      "execution_count": null,
      "outputs": [
        {
          "output_type": "display_data",
          "data": {
            "image/png": "[encoded data removed]",
            "text/plain": [
              "<Figure size 432x288 with 1 Axes>"
            ]
          },
          "metadata": {
            "needs_background": "light"
          }
        }
      ]
    },
    {
      "cell_type": "markdown",
      "source": [
        "Как видно из квантиль-квантиль графиков, распределения metric_value нормальны и в контрольной, и в тестовой группе. Обладая сведениями о нормальности, при достаточно больших выборках разумно применить для дисперсионного анализа критерий Бартлетта."
      ],
      "metadata": {
        "id": "Axdn4D7D9OCR"
      }
    },
    {
      "cell_type": "code",
      "source": [
        "alpha = 0.05\n",
        "x = stats.bartlett(ctrl_group.metric_value.values, test_group.metric_value.values)\n",
        "print('Variances of metric_value distributions is {}equal\\n'.format( {True:'not ', False:''}[x[1] < alpha]))"
      ],
      "metadata": {
        "colab": {
          "base_uri": "https://localhost:8080/"
        },
        "id": "esaTfdfX-R03",
        "outputId": "51fe0c97-499b-4da5-de2b-77fe10620671"
      },
      "execution_count": null,
      "outputs": [
        {
          "output_type": "stream",
          "name": "stdout",
          "text": [
            "Variances of metric_value distributions is equal\n",
            "\n"
          ]
        }
      ]
    },
    {
      "cell_type": "markdown",
      "source": [
        "На гистограммах метрик **visits** и **churn_visits** отображена явная ассиметрия данных, поэтому проверять их на нормальность особого смысла нет. Однако же это не мешает провести для данных метрик дисперсионный анализ критерием Левена, который слабочувствителен к отклонениям от нормальности."
      ],
      "metadata": {
        "id": "3igo-hBWCqm_"
      }
    },
    {
      "cell_type": "code",
      "source": [
        "alpha = 0.05\n",
        "x1 = stats.levene(ctrl_group.visits.values, test_group.visits.values)\n",
        "x2 = stats.levene(ctrl_group.churn_visits.values, test_group.churn_visits.values)\n",
        "print('Variances of visits distributions is {}equal\\n'.format( {True:'not ', False:''}[x1[1] < alpha]))\n",
        "print('Variances of churn_visits distributions is {}equal\\n'.format( {True:'not ', False:''}[x2[1] < alpha]))"
      ],
      "metadata": {
        "colab": {
          "base_uri": "https://localhost:8080/"
        },
        "id": "Nda18N4ID9f5",
        "outputId": "e2b74281-1666-4082-a239-f72638a53f5a"
      },
      "execution_count": null,
      "outputs": [
        {
          "output_type": "stream",
          "name": "stdout",
          "text": [
            "Variances of visits distributions is equal\n",
            "\n",
            "Variances of churn_visits distributions is equal\n",
            "\n"
          ]
        }
      ]
    },
    {
      "cell_type": "markdown",
      "source": [
        "Таким образом, были установлены равенства дисперсий для метрик visits и churn_visits. Как уже было упомянуто, метрики **users** и **churn_users** ялвяются бинарными. Исследовать их на нормальность и гомоскедастичность нецелесообразно."
      ],
      "metadata": {
        "id": "cTLULUijEs4g"
      }
    },
    {
      "cell_type": "markdown",
      "source": [
        "#**Исследование статистической значимости различий в тестовой и контрольной группах методом bootstrap**"
      ],
      "metadata": {
        "id": "_O6czQVEHyby"
      }
    },
    {
      "cell_type": "markdown",
      "source": [
        "**metric_value**\n"
      ],
      "metadata": {
        "id": "aiG4lOUhIIDo"
      }
    },
    {
      "cell_type": "markdown",
      "source": [
        "Для анализа данной метрики будем для каждой подвыборки смотреть на среднее значение, а различия отслеживать по разности данного значения (то есть выбираем bs_stats.mean и bs_compare.difference). Выберем доверительный интервал уровня 1 - α = 0.95"
      ],
      "metadata": {
        "id": "zw_isKbZpFYv"
      }
    },
    {
      "cell_type": "code",
      "source": [
        "x = bs.bootstrap_ab(test_group.metric_value.values, \\\n",
        "                    ctrl_group.metric_value.values, \\\n",
        "                    bs_stats.mean, \\\n",
        "                    bs_compare.difference, \\\n",
        "                    #num_iterations=5000, \\\n",
        "                    alpha=0.05, \\\n",
        "                    #iteration_batch_size=250, \\\n",
        "                    scale_test_by=1)\n",
        "print(\"Нововведениями удалось добиться увеличения метрики metric_value на\", round(x.value, 2))\n",
        "print(\"Результаты статистически значимы: 0 не попадает в 95% доверительный интервал: ({0}, {1})\".format(round(x.lower_bound, 2), round(x.upper_bound, 2)))"
      ],
      "metadata": {
        "colab": {
          "base_uri": "https://localhost:8080/"
        },
        "id": "aHZ42pk5pEXu",
        "outputId": "8501da1d-bd71-4dc9-ae96-c2e8570be2dd"
      },
      "execution_count": null,
      "outputs": [
        {
          "output_type": "stream",
          "name": "stdout",
          "text": [
            "Нововведениями удалось добиться увеличения метрики metric_value на 432.82\n",
            "Результаты статистически значимы: 0 не попадает в 95% доверительный интервал: (337.9, 527.14)\n"
          ]
        }
      ]
    },
    {
      "cell_type": "markdown",
      "source": [
        "**visits и churn_visits**"
      ],
      "metadata": {
        "id": "mcScg4wrs9R8"
      }
    },
    {
      "cell_type": "markdown",
      "source": [
        "Метрики visits и churn_visits будем анализировать с аналогичными параметрами."
      ],
      "metadata": {
        "id": "ooqjW6EmtiA6"
      }
    },
    {
      "cell_type": "code",
      "source": [
        "x = bs.bootstrap_ab(test_group.visits.values, \\\n",
        "                    ctrl_group.visits.values, \\\n",
        "                    bs_stats.mean, \\\n",
        "                    bs_compare.difference, \\\n",
        "                    #num_iterations=5000, \\\n",
        "                    alpha=0.05, \\\n",
        "                    #iteration_batch_size=250, \\\n",
        "                    scale_test_by=1)\n",
        "print(\"Нововведения понизили метрику visits на\", abs(round(x.value, 2)))\n",
        "print(\"Результаты не являются статистически значимыми: 0 попадает в 95% доверительный интервал: ({0}, {1})\".format(round(x.lower_bound, 2), round(x.upper_bound, 2)))"
      ],
      "metadata": {
        "colab": {
          "base_uri": "https://localhost:8080/"
        },
        "id": "Ui0wrB5PucFD",
        "outputId": "e44adf8d-89ba-470d-baea-ffc5f20aed25"
      },
      "execution_count": null,
      "outputs": [
        {
          "output_type": "stream",
          "name": "stdout",
          "text": [
            "Нововведения понизили метрику visits на 0.29\n",
            "Результаты не являются статистически значимыми: 0 попадает в 95% доверительный интервал: (-0.77, 0.18)\n"
          ]
        }
      ]
    },
    {
      "cell_type": "code",
      "source": [
        "x = bs.bootstrap_ab(test_group.churn_visits.values, \\\n",
        "                    ctrl_group.churn_visits.values, \\\n",
        "                    bs_stats.mean, \\\n",
        "                    bs_compare.difference, \\\n",
        "                    num_iterations=5000, \\\n",
        "                    alpha=0.05, \\\n",
        "                    iteration_batch_size=250, \\\n",
        "                    scale_test_by=1)\n",
        "print(\"Нововведения повысили метрику churn_visits на\", round(x.value, 2))\n",
        "print(\"Результаты не являются статистически значимыми: 0 попадает в 95% доверительный интервал: ({0}, {1})\".format(round(x.lower_bound, 2), round(x.upper_bound, 2)))"
      ],
      "metadata": {
        "colab": {
          "base_uri": "https://localhost:8080/"
        },
        "id": "_AcikvfguqZP",
        "outputId": "93429379-39c8-4f52-97cf-a179392ff187"
      },
      "execution_count": null,
      "outputs": [
        {
          "output_type": "stream",
          "name": "stdout",
          "text": [
            "Нововведения повысили метрику churn_visits на 0.05\n",
            "Результаты не являются статистически значимыми: 0 попадает в 95% доверительный интервал: (-0.05, 0.16)\n"
          ]
        }
      ]
    },
    {
      "cell_type": "markdown",
      "source": [
        "**users и churn_users**"
      ],
      "metadata": {
        "id": "v0AVPZPQEtkg"
      }
    },
    {
      "cell_type": "markdown",
      "source": [
        "Как уже упомяналось, метрики users и churn_users являются бинарными. Чтобы получить из них какую-то информацию, будем также измерять их средние и следить за разностями (bs_stats.mean и bs_compare.difference). Так как данные метрики могут принимать два значения: 0 и 1, среднее этих метрик будет говорить нам о частнотности втречаемости того или иного признака в выборке - что нам и необходимо. Выберем доверительный интервал уровня 1 - α = 0.9"
      ],
      "metadata": {
        "id": "t417Iu69E6UV"
      }
    },
    {
      "cell_type": "code",
      "source": [
        "x = bs.bootstrap_ab(test_group.users.values, \\\n",
        "                    ctrl_group.users.values, \\\n",
        "                    bs_stats.mean, \\\n",
        "                    bs_compare.percent_change, \\\n",
        "                    #num_iterations=5000, \\\n",
        "                    alpha=0.1, \\\n",
        "                    #iteration_batch_size=250, \\\n",
        "                    scale_test_by=1)\n",
        "print(\"Нововведения повысили метрику users на\", round(x.value, 2))\n",
        "print(\"Результаты не являются статистически значимыми: 0 не попадает в 90% доверительный интервал: ({0}, {1})\".format(round(x.lower_bound, 2), round(x.upper_bound, 2)))"
      ],
      "metadata": {
        "colab": {
          "base_uri": "https://localhost:8080/"
        },
        "id": "E7UfkfVHFOQH",
        "outputId": "3a47fb5f-069a-4573-fa2e-cb4cdd9b8821"
      },
      "execution_count": null,
      "outputs": [
        {
          "output_type": "stream",
          "name": "stdout",
          "text": [
            "Нововведения повысили метрику users на 1.38\n",
            "Результаты не являются статистически значимыми: 0 не попадает в 90% доверительный интервал: (-3.48, 6.12)\n"
          ]
        }
      ]
    },
    {
      "cell_type": "code",
      "source": [
        "x = bs.bootstrap_ab(test_group.churn_users.values, \\\n",
        "                    ctrl_group.churn_users.values, \\\n",
        "                    bs_stats.mean, \\\n",
        "                    bs_compare.difference, \\\n",
        "                    #num_iterations=5000, \\\n",
        "                    alpha=0.1, \\\n",
        "                    #iteration_batch_size=250, \\\n",
        "                    scale_test_by=1)\n",
        "print(\"Нововведения повысили метрику churn_visits на\", round(x.value, 2))\n",
        "print(\"Результаты являются статистически значимыми: 0 не попадает в 90% доверительный интервал: ({0}, {1})\".format(round(x.lower_bound, 2), round(x.upper_bound, 2)))"
      ],
      "metadata": {
        "colab": {
          "base_uri": "https://localhost:8080/"
        },
        "id": "dmPw0Xo1g3Xw",
        "outputId": "3f914298-8514-4ffa-c0bb-542cbe5b735e"
      },
      "execution_count": null,
      "outputs": [
        {
          "output_type": "stream",
          "name": "stdout",
          "text": [
            "Нововведения повысили метрику churn_visits на 0.28\n",
            "Результаты являются статистически значимыми: 0 не попадает в 90% доверительный интервал: (0.26, 0.3)\n"
          ]
        }
      ]
    },
    {
      "cell_type": "markdown",
      "source": [
        "Итак, было установлено, что нововведениями получилось повысить сумму целевых действий на пользователя. С другой стороны, изменения повысили кол-во пользователей, уходящих в отток. Что касается метрик, связанных с количеством посещений (целевых и не целевых), то для них не удалось установить статистически значимых отличий, как и для метрики, отвечающей за количество пользователей, совершивших целелвое действие.\n",
        "\n"
      ],
      "metadata": {
        "id": "-Lv4rQn_kbmF"
      }
    },
    {
      "cell_type": "markdown",
      "source": [
        "**Исследование размера выборки производилось для того же датасета в прошлом д/з.**"
      ],
      "metadata": {
        "id": "C0yDRJCk8yQu"
      }
    }
  ]
}